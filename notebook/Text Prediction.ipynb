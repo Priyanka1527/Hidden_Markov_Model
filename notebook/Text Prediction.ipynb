{
 "cells": [
  {
   "cell_type": "markdown",
   "metadata": {},
   "source": [
    "In Hidden Markov Model, each state has a probability distribution over the possible output tokens (Emission Probability) in addition to the Transition probaility. Hence, a HMM consists of 2 information : 1) State Path and 2) Token Path(Emitted Sequence).\n",
    "The state path is not visible, we need to infer the underlying state path based on observable token path."
   ]
  },
  {
   "cell_type": "markdown",
   "metadata": {},
   "source": [
    "In this assignment,the statemens(phrases) in the corpus are hidden states, each word is an observation. We need to predict what is going to be the completed sentence i.e. the next phrase based on the given phrase(hidden)."
   ]
  },
  {
   "cell_type": "code",
   "execution_count": null,
   "metadata": {},
   "outputs": [],
   "source": [
    "def predict(self, sentence):\n",
    "        sentence = sentence.strip().lower().translate(str.maketrans('','', string.punctuation)).split()\n",
    "        word1 = sentence[0]\n",
    "        if len(sentence) == 1:\n",
    "            word2 = [max(self.sec_word(word1), key=self.sec_word(word1).get)]\n",
    "            sentence.append(word2)\n",
    "        else:\n",
    "            word2 = sentence[1]\n",
    "        while True:\n",
    "            next_word = max(self.trans[(word1, word2)], key=self.trans[(word1, word2)].get)\n",
    "            if next_word == 'END':\n",
    "                break\n",
    "            sentence.append(next_word)\n",
    "            word1 = word2\n",
    "            word2 = next_word\n",
    "        print(' '.join(sentence) + '.')"
   ]
  }
 ],
 "metadata": {
  "kernelspec": {
   "display_name": "Python 3",
   "language": "python",
   "name": "python3"
  },
  "language_info": {
   "codemirror_mode": {
    "name": "ipython",
    "version": 3
   },
   "file_extension": ".py",
   "mimetype": "text/x-python",
   "name": "python",
   "nbconvert_exporter": "python",
   "pygments_lexer": "ipython3",
   "version": "3.6.6"
  }
 },
 "nbformat": 4,
 "nbformat_minor": 2
}
